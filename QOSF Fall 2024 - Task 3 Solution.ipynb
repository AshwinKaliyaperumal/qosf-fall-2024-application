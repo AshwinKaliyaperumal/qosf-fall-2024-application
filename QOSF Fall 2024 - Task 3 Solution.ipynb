{
 "cells": [
  {
   "cell_type": "code",
   "execution_count": null,
   "id": "52f83d45-2bd8-4769-9b6c-8fd6abaf5627",
   "metadata": {},
   "outputs": [],
   "source": [
    "# These are all of the import statements needed. The import statements are split up by \n",
    "# general python packages, D Wave specific packages, and Qiskit's software packages.\n",
    "\n",
    "# General Python packages\n",
    "import matplotlib.pyplot as plt\n",
    "import numpy as np\n",
    "from scipy.optimize import minimize\n",
    "\n",
    "# D Wave Ocean software packages\n",
    "import dimod\n",
    "from dimod import ExactSolver\n",
    "from dwave.system import DWaveSampler, FixedEmbeddingComposite\n",
    "from dwave.samplers import SimulatedAnnealingSampler\n",
    "\n",
    "# Qiskit software packages\n",
    "from qiskit import QuantumCircuit\n",
    "from qiskit.circuit import ParameterVector\n",
    "from qiskit.quantum_info import SparsePauliOp\n",
    "from qiskit_ibm_runtime import QiskitRuntimeService, Session, EstimatorV2 as Estimator, SamplerV2 as Sampler\n",
    "from qiskit.transpiler.preset_passmanagers import generate_preset_pass_manager\n",
    "from qiskit_aer import AerSimulator\n",
    "from qiskit.circuit.library import EfficientSU2, QAOAAnsatz"
   ]
  },
  {
   "cell_type": "markdown",
   "id": "d8fa66c9-2814-4924-882e-ad622186d639",
   "metadata": {},
   "source": [
    "# 0 - Setup"
   ]
  },
  {
   "cell_type": "markdown",
   "id": "c6bad200-fdb8-4e96-b327-5cd20645af78",
   "metadata": {},
   "source": [
    "## Variables "
   ]
  },
  {
   "cell_type": "code",
   "execution_count": null,
   "id": "8939f85a-9b7a-46b2-9803-17ee2d464386",
   "metadata": {},
   "outputs": [],
   "source": [
    "# These are the different test-cases instances and the related capacity for each instance. The \n",
    "# item sizes for each of the different bins were generated randomly, from 1 to the bin capacity\n",
    "# for that size. To test a specific instance, set bins_current to the bin list and capacity_current\n",
    "# to the capacity you want to test for your specific bin packing problem instance.\n",
    "\n",
    "bins_small = [94, 6]\n",
    "bins_medium = [94, 30, 18, 17, 43, 86, 24, 21, 75, 29]\n",
    "bins_large = [94, 30, 18, 17, 43, 86, 24, 21, 75, 29, 72, 20, 83, 66, 52, 8, 92, 97, 57, 70, 32, 71, 9, 62, 95, 38, 88, 68, 19, 79]\n",
    "\n",
    "capacity_small = 100\n",
    "capacity_medium = 150\n",
    "capacity_large = 200\n",
    "\n",
    "bins_current = bins_large\n",
    "capacity_current = capacity_large"
   ]
  },
  {
   "cell_type": "code",
   "execution_count": null,
   "id": "eb736078-d65b-49cb-96d3-4f98baf3d723",
   "metadata": {},
   "outputs": [],
   "source": [
    "# These are the scalars for the QUBO model of the bin packing problem. Tweaking these numbers\n",
    "# will only affect the QUBO matrix that the exact and quantum annealing solvers use. These\n",
    "# values were set through experimentation.\n",
    "\n",
    "alpha = 1 # minimze num boxes\n",
    "beta = capacity_current * capacity_current # ensure each item has a home\n",
    "gamma = 1 # weight can't go over bin capacity"
   ]
  },
  {
   "cell_type": "code",
   "execution_count": null,
   "id": "d4b1b834-bb64-43a3-9955-69455423a0b8",
   "metadata": {},
   "outputs": [],
   "source": [
    "# Test Case Methods\n",
    "\n",
    "# This is a method that tests and outputs the final, formated solutions of the different solvers. \n",
    "# It checks that every item in the item list is included, and makes sure that there \n",
    "# aren't any extra items or any duplicate items. This method prints out three test cases to make\n",
    "# sure the solution is valid and prints out the final assortment of items in bins.\n",
    "\n",
    "def print_test_cases(binary_variables):\n",
    "    count = 0\n",
    "    sorted_bin = []\n",
    "    \n",
    "    for x in binary_variables:\n",
    "        count = count + x\n",
    "    \n",
    "    num_items = items\n",
    "\n",
    "    ## Pre-processing to convert the binary variable solution and place each item\n",
    "    ## in their respective bin\n",
    "    for bin in range(items):\n",
    "        current_bin = []\n",
    "        \n",
    "        for item in range(items):\n",
    "            index = (num_items * bin) + item\n",
    "            \n",
    "            if (binary_variables[index] == 1): # if the item is in the current bin\n",
    "                current_bin.append(item)            \n",
    "        \n",
    "        sorted_bin.append(current_bin)\n",
    "    \n",
    "    ## Test Cases\n",
    "    \n",
    "    print(\"Are there only X items?\")\n",
    "    print(count == len(bins_current))\n",
    "    \n",
    "    print(\"Is every item included?\")\n",
    "    squished_bin = []\n",
    "    for bin in sorted_bin:\n",
    "        for item in bin:\n",
    "            squished_bin.append(bins_current[item])\n",
    "    \n",
    "    print(set(squished_bin) == set(bins_current))\n",
    "    \n",
    "    print(\"Are there any duplicates?\")\n",
    "    isDuplicate = False\n",
    "    for item in squished_bin:\n",
    "        if squished_bin.count(item) > 1:\n",
    "            isDuplicate = True\n",
    "    \n",
    "    print(isDuplicate)\n",
    "    print(sorted_bin)"
   ]
  },
  {
   "cell_type": "markdown",
   "id": "0d1abfbf-63b3-423d-9d3c-4c72ed348303",
   "metadata": {},
   "source": [
    "# 1 - Brute Force QUBO solver"
   ]
  },
  {
   "cell_type": "markdown",
   "id": "9dc1ce98-75b7-495f-af73-5963ad5052fb",
   "metadata": {},
   "source": [
    "## Create matrix representation of BPP QUBO"
   ]
  },
  {
   "cell_type": "code",
   "execution_count": null,
   "id": "15e84f3a-a1d7-4006-9358-3bb7ed1655d1",
   "metadata": {
    "scrolled": true
   },
   "outputs": [],
   "source": [
    "# This code generates a matrix representation of the Bin Packing Problem QUBO model.\n",
    "# The output of this model is a qubo_array, with a size equal to the number of binary\n",
    "# variables squared\n",
    "\n",
    "items = len(bins_current)\n",
    "\n",
    "qubo_array = np.zeros((items * items, items * items)) # assuming 1 box per item = max boxes, need to make sure this is a square matrix though\n",
    "\n",
    "for i in range(items * items):\n",
    "    #print(i % items)\n",
    "    for j in range(items * items - i):\n",
    "        item_one = i % items\n",
    "        bin_one = int(i / items)\n",
    "        item_two = (j + i)  % items\n",
    "        bin_two = int((j + i) / items)\n",
    "        weight = 0\n",
    "       \n",
    "        if (i == j + i): # on-diagonal\n",
    "            weight += alpha - beta + (bins_current[item_two] * bins_current[item_two]) - (2 * capacity_current * bins_current[item_two])\n",
    "        else: # off-diagonal\n",
    "            if (item_one == item_two): # if items are the same\n",
    "                weight += 2 * beta\n",
    "            elif (bin_one == bin_two): # if bins are the same\n",
    "                weight += 2 * gamma * bins_current[item_one] * bins_current[item_two]\n",
    "        \n",
    "        qubo_array[i, j + i] = weight\n",
    "            \n",
    "print(qubo_array)"
   ]
  },
  {
   "cell_type": "markdown",
   "id": "c95a391f-9f59-48dc-ba67-13bc081db516",
   "metadata": {},
   "source": [
    "## Use the ExactSolver() to find the best solution"
   ]
  },
  {
   "cell_type": "code",
   "execution_count": null,
   "id": "781f69c6-2b2c-460d-bc7d-3a709f5e52fe",
   "metadata": {},
   "outputs": [],
   "source": [
    "# This code uses the exact solver and uses the QUBO matrix to find all of the different solutions \n",
    "# of the QUBO matrix with their corresponding energy levels.\n",
    "\n",
    "sampler = ExactSolver()  \n",
    "\n",
    "print(\"Converting QUBO to BQM\")\n",
    "bqm = dimod.BinaryQuadraticModel(qubo_array, \"BINARY\")\n",
    "\n",
    "print(\"Optimizing!\")\n",
    "samples = sampler.sample(bqm)\n",
    "\n",
    "print(\"Finished optimization!\")\n",
    "\n",
    "# the solution list, converted into a list of binary variables (0 or 1) representing if an item i is in bin j\n",
    "value_list = [(int)(value) for value in samples.first.sample.values()] "
   ]
  },
  {
   "cell_type": "code",
   "execution_count": null,
   "id": "9d2a6282",
   "metadata": {},
   "outputs": [],
   "source": [
    "# This prints out the test cases for the exact solver solution, allowing you to see if the solution \n",
    "# (taken from the solution with the least energy from the exact solver) \n",
    "# is valid.\n",
    "\n",
    "print_test_cases([(int)(value) for value in samples.first.sample.values()])"
   ]
  },
  {
   "cell_type": "markdown",
   "id": "50a18264-f553-4d34-8124-13eeb2e2e2a5",
   "metadata": {},
   "source": [
    "# 2 - Quantum Annealing Approach"
   ]
  },
  {
   "cell_type": "markdown",
   "id": "c8238e18-3f6a-45a3-a320-4a8e56bb32af",
   "metadata": {},
   "source": [
    "## Use the SimulatedAnnealingSampler() to simulate how quantum annealing would solve the QUBO"
   ]
  },
  {
   "cell_type": "code",
   "execution_count": null,
   "id": "3183c552-3d4f-4aa5-b321-48e4486cac67",
   "metadata": {},
   "outputs": [],
   "source": [
    "# This code uses the annealing simulator with the QUBO matrix to find the optimal solution for the QUBO matrix in \n",
    "# the same way D Wave's quantum annealers would.\n",
    "\n",
    "sampler = SimulatedAnnealingSampler()  \n",
    "\n",
    "print(\"Converting QUBO to BQM\")\n",
    "bqm = dimod.BinaryQuadraticModel(qubo_array, \"BINARY\")\n",
    "\n",
    "print(\"Optimizing!\")\n",
    "samples = sampler.sample(bqm, num_counts=20)\n",
    "\n",
    "print(\"Finished optimization!\")"
   ]
  },
  {
   "cell_type": "code",
   "execution_count": null,
   "id": "79723d15-919e-4cc6-b6a7-065dca510d6b",
   "metadata": {},
   "outputs": [],
   "source": [
    "# This prints out the test cases for the quantum annealing simulator, allowing you to see if the solution \n",
    "# (taken from the solution with the least energy from the exact solver) \n",
    "# is valid.\n",
    "\n",
    "print_test_cases(samples.record[0][0])"
   ]
  },
  {
   "cell_type": "markdown",
   "id": "65874fb1-ea9b-4569-8127-7182da4ae2fd",
   "metadata": {},
   "source": [
    "# 3 - Quantum Variational Approach"
   ]
  },
  {
   "cell_type": "markdown",
   "id": "1f8b252c-a529-446d-a8cd-3e91fd193315",
   "metadata": {},
   "source": [
    "## Define scalars for testing"
   ]
  },
  {
   "cell_type": "code",
   "execution_count": null,
   "id": "9e8134e3-5b57-43ca-9b4f-0974510fb332",
   "metadata": {},
   "outputs": [],
   "source": [
    "# These are the scalars for the Ising Hamiltonian model of the Bin Packing Problem QUBO. \n",
    "# These are necessarily because of the shift in variables (binary to spin) from the \n",
    "# QUBO model to an Ising Hamiltonian model. Tweaking these numbers will only affect the\n",
    "# QUBO matrix that the quantum variational approach and QAOA algorithm use. These values\n",
    "# were set through experimentation.\n",
    "\n",
    "a = 1\n",
    "b = beta\n",
    "c = 1"
   ]
  },
  {
   "cell_type": "markdown",
   "id": "6d94e5c2-e1c6-48ae-9726-2fde78936113",
   "metadata": {},
   "source": [
    "## Generate the Ising Hamiltonian of a bin packing problem instance"
   ]
  },
  {
   "cell_type": "code",
   "execution_count": null,
   "id": "2863adb2-4552-4b94-a6a7-948e26a3bb80",
   "metadata": {},
   "outputs": [],
   "source": [
    "# This method generates the Ising Hamiltonian pauli list that the quantum variational approach and QAOA algorithm. \n",
    "# The Pauli List is the format of the hamiltonian that IBM Qiskit uses (instead of the matrix form that the QUBO \n",
    "# model uses). This method returns a pauli-list, with the observables and their corresponding cofficients. \n",
    "\n",
    "def generate_ising_hamiltonian(bins_current):\n",
    "    items = len(bins_current)\n",
    "    total_variables = items * items\n",
    "    total_weight = sum(bins_current)\n",
    "    \n",
    "    pauli_list = []\n",
    "    # individual terms\n",
    "    for i in range(items * items):\n",
    "        #print(i % items)\n",
    "        for j in range(items * items - i):\n",
    "            item_one = i % items\n",
    "            bin_one = int(i / items)\n",
    "            item_two = (j + i)  % items\n",
    "            bin_two = int((j + i) / items)\n",
    "    \n",
    "            if (i == j + i): # on-diagonal\n",
    "                paulis = [\"I\"] * total_variables\n",
    "                paulis[i] = \"Z\"\n",
    "        \n",
    "                weight = (a + (c * bins_current[item_one] * (total_weight - (2 * capacity_current)))) / 2\n",
    "                pauli_list.append((\"\".join(paulis)[::-1], weight))\n",
    "            else: # off-diagonal\n",
    "                if (item_one == item_two):\n",
    "                    paulis = [\"I\"] * total_variables\n",
    "                    paulis[i], paulis[j + i] = \"Z\", \"Z\"\n",
    "        \n",
    "                    weight = b / 2\n",
    "                    pauli_list.append((\"\".join(paulis)[::-1], weight))\n",
    "                elif (bin_one == bin_two):\n",
    "                    paulis = [\"I\"] * total_variables\n",
    "                    paulis[i], paulis[j + i] = \"Z\", \"Z\"\n",
    "        \n",
    "                    weight = (c * bins_current[item_one] * bins_current[item_two]) / 2\n",
    "                    pauli_list.append((\"\".join(paulis)[::-1], weight))\n",
    "\n",
    "    return pauli_list"
   ]
  },
  {
   "cell_type": "code",
   "execution_count": null,
   "id": "d7c80563-08ed-48a1-86ee-430018139537",
   "metadata": {
    "scrolled": true
   },
   "outputs": [],
   "source": [
    "# This is the cost hamiltonian that the quantum anzatz attempts to optimize.\n",
    "\n",
    "cost_hamiltonian = SparsePauliOp.from_list(generate_ising_hamiltonian(bins_current))"
   ]
  },
  {
   "cell_type": "markdown",
   "id": "4383adf3-56ff-43c3-b4a8-843e24a2abca",
   "metadata": {},
   "source": [
    "## Set the Ansatz"
   ]
  },
  {
   "cell_type": "code",
   "execution_count": null,
   "id": "743c0a00-fa8c-42d2-a32f-fdfe30dda461",
   "metadata": {},
   "outputs": [],
   "source": [
    "# This code uses the EfficientSU2 anzatz to optimize the Ising Hamiltonian of the BPP.\n",
    "\n",
    "circuit = EfficientSU2(cost_hamiltonian.num_qubits)\n",
    "circuit.measure_all()\n",
    "\n",
    "circuit.decompose().draw('mpl')\n",
    "\n",
    "# This sets the number of parameters. It will be useful when we need to know how many parameters to randomly generate.\n",
    "num_params = circuit.num_parameters "
   ]
  },
  {
   "cell_type": "markdown",
   "id": "e56bc5e9-d1dd-4c03-9846-3d662bb1048b",
   "metadata": {},
   "source": [
    "## Process the quantum circuit to run on a quantum computer"
   ]
  },
  {
   "cell_type": "code",
   "execution_count": null,
   "id": "603c7955-cae3-4b73-aa21-1aba20e30804",
   "metadata": {
    "scrolled": true
   },
   "outputs": [],
   "source": [
    "# This code connects to IBM's servers to run the quantum anzatz circuit on an actual quantum computer. \n",
    "# It generates a backend optimized version of the circuit and hamiltonian, so that the circuit can run,\n",
    "# using the native architecture and gates of the quantum computer backend.\n",
    "# NOTE - NEEDS AN API TOKEN TO RUN\n",
    "\n",
    "QiskitRuntimeService.save_account(channel=\"ibm_quantum\", token=\"INSERT_API_TOKEN\", overwrite=True, set_as_default=True)\n",
    "\n",
    "service = QiskitRuntimeService(channel='ibm_quantum')\n",
    "backend = service.least_busy(min_num_qubits=127)\n",
    "target = backend.target\n",
    "pm = generate_preset_pass_manager(target=target, optimization_level=3)\n",
    "\n",
    "ansatz_isa = pm.run(circuit)\n",
    "hamiltonian_isa = cost_hamiltonian.apply_layout(layout=ansatz_isa.layout)"
   ]
  },
  {
   "cell_type": "code",
   "execution_count": null,
   "id": "5ff094e3-51fc-49de-85b2-b4a39a248738",
   "metadata": {},
   "outputs": [],
   "source": [
    "# Return estimate of energy from estimator\n",
    "\n",
    "#    Parameters:\n",
    "#        params (ndarray): Array of ansatz parameters\n",
    "#        ansatz (QuantumCircuit): Parameterized ansatz circuit\n",
    "#        hamiltonian (SparsePauliOp): Operator representation of Hamiltonian\n",
    "#        estimator (EstimatorV2): Estimator primitive instance\n",
    "#        cost_history_dict: Dictionary for storing intermediate results\n",
    "\n",
    "#    Returns:\n",
    "#        float: Energy estimate\n",
    "#    \n",
    "\n",
    "def cost_func(params, ansatz, hamiltonian, estimator):\n",
    "    pub = (ansatz, [hamiltonian], [params])\n",
    "    result = estimator.run(pubs=[pub]).result()\n",
    "    energy = result[0].data.evs[0]\n",
    "\n",
    "    cost_history_dict[\"iters\"] += 1\n",
    "    cost_history_dict[\"prev_vector\"] = params\n",
    "    cost_history_dict[\"cost_history\"].append(energy)\n",
    "    print(f\"Iters. done: {cost_history_dict['iters']} [Current cost: {energy}]\")\n",
    "\n",
    "    return energy"
   ]
  },
  {
   "cell_type": "code",
   "execution_count": null,
   "id": "4ba8431b-3f2e-4d2a-b18e-f3352802d6e8",
   "metadata": {},
   "outputs": [],
   "source": [
    "# This code optimizes over the parameters of the quantum ansatz, using the Powell \n",
    "# optimizer. It returns the most optimal parameters.\n",
    "\n",
    "cost_history_dict = {\n",
    "    \"prev_vector\": None,\n",
    "    \"iters\": 0,\n",
    "    \"cost_history\": [],\n",
    "}\n",
    "\n",
    "# generates random parameters\n",
    "x0 = 2 * np.pi * np.random.random(num_params)\n",
    "\n",
    "with Session(backend=backend) as session:\n",
    "    estimator = Estimator(mode=session)\n",
    "    estimator.options.default_shots = 10\n",
    "\n",
    "    res = minimize(\n",
    "        cost_func,\n",
    "        x0,\n",
    "        args=(ansatz_isa, hamiltonian_isa, estimator),\n",
    "        method=\"Powell\",\n",
    "    )"
   ]
  },
  {
   "cell_type": "code",
   "execution_count": null,
   "id": "caf75132-a01c-40cf-9081-f15a30c7966e",
   "metadata": {
    "scrolled": true
   },
   "outputs": [],
   "source": [
    "# This plots the results of the optimization, showing the \n",
    "# cost of the solution over the iterations.\n",
    "\n",
    "fig, ax = plt.subplots()\n",
    "ax.plot(range(cost_history_dict[\"iters\"]), cost_history_dict[\"cost_history\"])\n",
    "ax.set_xlabel(\"Iterations\")\n",
    "ax.set_ylabel(\"Cost\")\n",
    "plt.draw()"
   ]
  },
  {
   "cell_type": "code",
   "execution_count": null,
   "id": "e004a550-457c-4544-83cb-ddb83b334436",
   "metadata": {
    "scrolled": true
   },
   "outputs": [],
   "source": [
    "# This code runs the quantum ansatz one last time with the optimized parameters to get \n",
    "# the optimal solution to the Bin Packing problem instance. \n",
    "\n",
    "optimized_circuit = ansatz_isa.assign_parameters(res.x)\n",
    "\n",
    "# If using qiskit-ibm-runtime<0.24.0, change `mode=` to `backend=`\n",
    "sampler = Sampler(mode=backend)\n",
    "sampler.options.default_shots = 10000\n",
    "\n",
    "pub= (optimized_circuit, )\n",
    "job = sampler.run([pub], shots=int(1e4))\n",
    "counts_int = job.result()[0].data.meas.get_int_counts()\n",
    "counts_bin = job.result()[0].data.meas.get_counts()\n",
    "shots = sum(counts_int.values())\n",
    "final_distribution_int = {key: val/shots for key, val in counts_int.items()}\n",
    "final_distribution_bin = {key: val/shots for key, val in counts_bin.items()}\n",
    "print(final_distribution_int)"
   ]
  },
  {
   "cell_type": "code",
   "execution_count": null,
   "id": "596d5ff8-d907-4276-a4ef-c91f86283f8a",
   "metadata": {},
   "outputs": [],
   "source": [
    "# This code processes the output of running the quantum ansatz. It is an auxiliary \n",
    "# function to sample the most likely bitstring.\n",
    "\n",
    "def to_bitstring(integer, num_bits):\n",
    "    result = np.binary_repr(integer, width=num_bits)\n",
    "    return [int(digit) for digit in result]\n",
    "\n",
    "keys = list(final_distribution_int.keys())\n",
    "values = list(final_distribution_int.values())\n",
    "most_likely = keys[np.argmax(np.abs(values))]\n",
    "most_likely_bitstring = to_bitstring(most_likely, total_variables)\n",
    "most_likely_bitstring.reverse()\n",
    "\n",
    "print(\"Result bitstring:\", most_likely_bitstring)"
   ]
  },
  {
   "cell_type": "code",
   "execution_count": null,
   "id": "042adba5-f64d-4038-8628-3d4e1302dda8",
   "metadata": {},
   "outputs": [],
   "source": [
    "## Run test cases on quantum variational algorithm solution\n",
    "print_test_cases(most_likely_bitstring)"
   ]
  },
  {
   "cell_type": "code",
   "execution_count": null,
   "id": "66250d6e-3b57-4a48-9e71-8a824b0bf467",
   "metadata": {},
   "outputs": [],
   "source": []
  },
  {
   "cell_type": "markdown",
   "id": "cd6ebd04-f1a6-4360-9ad1-b2a73dd3ace6",
   "metadata": {},
   "source": [
    "# 4 - Quantum Approximate Optimization Algorithm"
   ]
  },
  {
   "cell_type": "code",
   "execution_count": null,
   "id": "7f6558be-f2f4-4271-a8ec-fce91f6def82",
   "metadata": {},
   "outputs": [],
   "source": []
  },
  {
   "cell_type": "code",
   "execution_count": null,
   "id": "021ea996-2901-4a7c-81ce-0ab7a4a67578",
   "metadata": {
    "scrolled": true
   },
   "outputs": [],
   "source": [
    "# This is the cost hamiltonian that the QAOA algorithm attempts to optimize.\n",
    "\n",
    "cost_hamiltonian = SparsePauliOp.from_list(generate_ising_hamiltonian(bins_current))"
   ]
  },
  {
   "cell_type": "code",
   "execution_count": null,
   "id": "bc1df3bd-5c92-4585-b802-fb154743b5fd",
   "metadata": {},
   "outputs": [],
   "source": []
  },
  {
   "cell_type": "code",
   "execution_count": null,
   "id": "48834095-810f-43b7-9e62-177a98653d82",
   "metadata": {},
   "outputs": [],
   "source": [
    "# This code constructs the QAOA circuit in Qiskit from stratch. It takes in a cost hamiltonian, \n",
    "# in the form of a Sparce Pauli Operator list, and outputs a QAOA circuit, with a total of two \n",
    "# runs. The number of runs is tweakable, however.\n",
    "\n",
    "## This method converts a Sparce Pauli operator into a set of qubit indicies. It returns the\n",
    "## qubit index (or indicies) that the SparcePauliOperator applied a Z gate on. This is used \n",
    "## in the cost circuit to know where to place RZ and CRZ gates.\n",
    "def find_indexes(string, letter):\n",
    "    return [i for i, char in enumerate(string) if char == letter]\n",
    "\n",
    "## These are the initial parameters that the QAOA starts of with.\n",
    "initial_gamma = np.pi\n",
    "initial_beta = np.pi/2\n",
    "init_params = [initial_gamma, initial_beta, initial_gamma, initial_beta]\n",
    "\n",
    "## Initializes the QAOA circuit\n",
    "circuit = QuantumCircuit(total_variables, total_variables)\n",
    "\n",
    "## Sets every qubit in superposition\n",
    "for qubit in range(total_variables):\n",
    "    circuit.h(qubit)\n",
    "\n",
    "## This method takes in a circuit and a parameter to apply the cost layer of the QAOA function\n",
    "## on the circuit. It uses the cost hamiltonian coefficients to mark the rotation of the RZ or\n",
    "## CRZ gates and ends by applying a completed cost layer onto the passed in circuit. There is a \n",
    "## barrier gate at the start of the layer to assist with visulization.\n",
    "def cost_circuit(circuit, gamma):\n",
    "    circuit.barrier()\n",
    "    \n",
    "    index = 0\n",
    "\n",
    "    for i in range(len(cost_hamiltonian.paulis)):\n",
    "        indexes = find_indexes((str)(cost_hamiltonian.paulis[i]), 'Z')\n",
    "        curr_weight = cost_hamiltonian.coeffs[i]\n",
    "        \n",
    "        if len(indexes) == 1:\n",
    "            circuit.rz((int)(cost_hamiltonian.coeffs[indexes[0]]) * gamma, indexes[0])\n",
    "        elif len(indexes) == 2:\n",
    "            circuit.crz((int)(cost_hamiltonian.coeffs[indexes[0]]) * (int)(cost_hamiltonian.coeffs[indexes[1]]) * gamma, indexes[0], indexes[1])\n",
    "    \n",
    "## This method takes in a circuit and a parameter to apply the mixer layer of the QAOA function\n",
    "## on the circuit. It ends by adding a RX gate to every qubit in the circuit. There is a barrier\n",
    "## gate at the start of the layer to assist with visulization.\n",
    "def mixer_circuit(circuit, beta):\n",
    "    circuit.barrier()\n",
    "    \n",
    "    for qubit in range(total_variables):\n",
    "        circuit.rx(2 * beta, qubit) \n",
    "\n",
    "## Sets the number of runs and the parameters in the cost and mixer function\n",
    "num_runs = 2\n",
    "gamma_list = ParameterVector(\"gamma\", num_runs)\n",
    "beta_list = ParameterVector(\"beta\", num_runs)\n",
    "\n",
    "## Adds a set number of cost and mixer layers, set as the number of runs\n",
    "for run in range(num_runs):\n",
    "    cost_circuit(circuit, gamma_list[run])\n",
    "    mixer_circuit(circuit, beta_list[run])\n",
    "\n",
    "## Measures all of the qubits\n",
    "circuit.measure_all()\n",
    "\n",
    "## Draws the circuit\n",
    "circuit.draw('mpl')"
   ]
  },
  {
   "cell_type": "code",
   "execution_count": null,
   "id": "0f0168e3-e9a5-47db-9b32-d6a2adc586c9",
   "metadata": {
    "scrolled": true
   },
   "outputs": [],
   "source": [
    "# This code connects to IBM's servers to run the quantum anzatz circuit on an actual quantum computer. \n",
    "# It generates a backend optimized version of the circuit and hamiltonian, so that the circuit can run,\n",
    "# using the native architecture and gates of the quantum computer backend.\n",
    "# NOTE - NEEDS AN API TOKEN TO RUN\n",
    "\n",
    "service = QiskitRuntimeService(channel='ibm_quantum')\n",
    "backend = service.least_busy(min_num_qubits=127)\n",
    "\n",
    "# Create pass manager for transpilation\n",
    "pm = generate_preset_pass_manager(optimization_level=3,\n",
    "                                    backend=backend)\n",
    "\n",
    "candidate_circuit = pm.run(circuit)"
   ]
  },
  {
   "cell_type": "code",
   "execution_count": null,
   "id": "3c172412-7190-43a1-9cf7-281988580a83",
   "metadata": {},
   "outputs": [],
   "source": [
    "# Return estimate of energy from estimator\n",
    "\n",
    "#    Parameters:\n",
    "#        params (ndarray): Array of ansatz parameters\n",
    "#        ansatz (QuantumCircuit): Parameterized ansatz circuit\n",
    "#        hamiltonian (SparsePauliOp): Operator representation of Hamiltonian\n",
    "#        estimator (EstimatorV2): Estimator primitive instance\n",
    "#        cost_history_dict: Dictionary for storing intermediate results\n",
    "\n",
    "#    Returns:\n",
    "#        float: Energy estimate\n",
    "#    \n",
    "\n",
    "def cost_func_estimator(params, ansatz, hamiltonian, estimator):\n",
    "\n",
    "    # transform the observable defined on virtual qubits to\n",
    "    # an observable defined on all physical qubits\n",
    "    isa_hamiltonian = hamiltonian.apply_layout(ansatz.layout)\n",
    "\n",
    "    pub = (ansatz, isa_hamiltonian, params)\n",
    "    job = estimator.run([pub])\n",
    "\n",
    "    results = job.result()[0]\n",
    "    cost = results.data.evs\n",
    "\n",
    "    objective_func_vals.append(cost)\n",
    "\n",
    "    return cost"
   ]
  },
  {
   "cell_type": "code",
   "execution_count": null,
   "id": "14e82427-1f9d-461c-b014-7e44885f570b",
   "metadata": {},
   "outputs": [],
   "source": [
    "# This code optimizes over the parameters of the quantum ansatz, using the Powell \n",
    "# optimizer. It returns the most optimal parameters.\n",
    "\n",
    "objective_func_vals = [] # Global variable\n",
    "\n",
    "with Session(backend=backend) as session:\n",
    "    # If using qiskit-ibm-runtime<0.24.0, change `mode=` to `session=`\n",
    "    estimator = Estimator(mode=session)\n",
    "    estimator.options.default_shots = 1000\n",
    "\n",
    "    result = minimize(\n",
    "        cost_func_estimator,\n",
    "        init_params,\n",
    "        args=(candidate_circuit, cost_hamiltonian, estimator),\n",
    "        method=\"Powell\",\n",
    "        tol=1e-2,\n",
    "    )\n",
    "    print(result)"
   ]
  },
  {
   "cell_type": "code",
   "execution_count": null,
   "id": "a1a775be-4984-45d1-9e23-f4b5f3c3ef28",
   "metadata": {
    "scrolled": true
   },
   "outputs": [],
   "source": [
    "# This plots the results of the optimization, showing the \n",
    "# cost of the solution over the iterations.\n",
    "\n",
    "plt.figure(figsize=(12, 6))\n",
    "plt.plot(objective_func_vals)\n",
    "plt.xlabel(\"Iteration\")\n",
    "plt.ylabel(\"Cost\")\n",
    "plt.show()"
   ]
  },
  {
   "cell_type": "code",
   "execution_count": null,
   "id": "1d46af10-2d2f-4ac8-b75c-3058bd2d57d8",
   "metadata": {
    "scrolled": true
   },
   "outputs": [],
   "source": [
    "# This code runs the quantum ansatz one last time with the optimized parameters to get \n",
    "# the optimal solution to the Bin Packing problem instance. \n",
    "\n",
    "optimized_circuit = candidate_circuit.assign_parameters(result.x)\n",
    "\n",
    "# If using qiskit-ibm-runtime<0.24.0, change `mode=` to `backend=`\n",
    "sampler = Sampler(mode=backend)\n",
    "sampler.options.default_shots = 10000\n",
    "\n",
    "pub= (optimized_circuit, )\n",
    "job = sampler.run([pub], shots=int(1e4))\n",
    "counts_int = job.result()[0].data.meas.get_int_counts()\n",
    "counts_bin = job.result()[0].data.meas.get_counts()\n",
    "shots = sum(counts_int.values())\n",
    "final_distribution_int = {key: val/shots for key, val in counts_int.items()}\n",
    "final_distribution_bin = {key: val/shots for key, val in counts_bin.items()}\n",
    "print(final_distribution_int)"
   ]
  },
  {
   "cell_type": "code",
   "execution_count": null,
   "id": "74bed89f-92d4-40dd-aaa6-0fba6894be8b",
   "metadata": {},
   "outputs": [],
   "source": [
    "# This code processes the output of running the quantum ansatz. It is an auxiliary \n",
    "# function to sample the most likely bitstring.\n",
    "\n",
    "def to_bitstring(integer, num_bits):\n",
    "    result = np.binary_repr(integer, width=num_bits)\n",
    "    return [int(digit) for digit in result]\n",
    "\n",
    "keys = list(final_distribution_int.keys())\n",
    "values = list(final_distribution_int.values())\n",
    "most_likely = keys[np.argmax(np.abs(values))]\n",
    "most_likely_bitstring = to_bitstring(most_likely, total_variables)\n",
    "most_likely_bitstring.reverse()\n",
    "\n",
    "print(\"Result bitstring:\", most_likely_bitstring)"
   ]
  },
  {
   "cell_type": "code",
   "execution_count": null,
   "id": "012d1639-b7d8-4161-bca7-375e82c73f5a",
   "metadata": {},
   "outputs": [],
   "source": [
    "# Run test cases on the QAOA solution\n",
    "\n",
    "print_test_cases(most_likely_bitstring)"
   ]
  }
 ],
 "metadata": {
  "kernelspec": {
   "display_name": "Python 3 (ipykernel)",
   "language": "python",
   "name": "python3"
  },
  "language_info": {
   "codemirror_mode": {
    "name": "ipython",
    "version": 3
   },
   "file_extension": ".py",
   "mimetype": "text/x-python",
   "name": "python",
   "nbconvert_exporter": "python",
   "pygments_lexer": "ipython3",
   "version": "3.12.7"
  }
 },
 "nbformat": 4,
 "nbformat_minor": 5
}
